{
 "cells": [
  {
   "cell_type": "code",
   "execution_count": 619,
   "metadata": {},
   "outputs": [],
   "source": [
    "from scipy.spatial import KDTree\n",
    "import numpy as np\n",
    "from pprint import pp\n",
    "import pandas as pd\n",
    "import seaborn as sns\n",
    "import matplotlib.pyplot as plt"
   ]
  },
  {
   "cell_type": "code",
   "execution_count": 620,
   "metadata": {},
   "outputs": [
    {
     "name": "stdout",
     "output_type": "stream",
     "text": [
      "[1, 2, 3]\n",
      "array([[3, 3],\n",
      "       [4, 4],\n",
      "       [5, 4]])\n"
     ]
    }
   ],
   "source": [
    "# Example\n",
    "points_ref = np.array([(1, 1), (3, 3), (4, 4), (5, 4), (6, 6)])\n",
    "tree = KDTree(points_ref)\n",
    "idx = tree.query_ball_point((4, 4), 2)\n",
    "pp(idx)\n",
    "pp(points_ref[idx])"
   ]
  },
  {
   "cell_type": "code",
   "execution_count": 621,
   "metadata": {},
   "outputs": [
    {
     "data": {
      "text/html": [
       "<div>\n",
       "<style scoped>\n",
       "    .dataframe tbody tr th:only-of-type {\n",
       "        vertical-align: middle;\n",
       "    }\n",
       "\n",
       "    .dataframe tbody tr th {\n",
       "        vertical-align: top;\n",
       "    }\n",
       "\n",
       "    .dataframe thead th {\n",
       "        text-align: right;\n",
       "    }\n",
       "</style>\n",
       "<table border=\"1\" class=\"dataframe\">\n",
       "  <thead>\n",
       "    <tr style=\"text-align: right;\">\n",
       "      <th></th>\n",
       "      <th>y</th>\n",
       "      <th>W1</th>\n",
       "      <th>W2</th>\n",
       "    </tr>\n",
       "  </thead>\n",
       "  <tbody>\n",
       "    <tr>\n",
       "      <th>0</th>\n",
       "      <td>0</td>\n",
       "      <td>0.506368</td>\n",
       "      <td>0.584381</td>\n",
       "    </tr>\n",
       "    <tr>\n",
       "      <th>1</th>\n",
       "      <td>1</td>\n",
       "      <td>0.394371</td>\n",
       "      <td>0.808610</td>\n",
       "    </tr>\n",
       "    <tr>\n",
       "      <th>2</th>\n",
       "      <td>2</td>\n",
       "      <td>0.765826</td>\n",
       "      <td>0.453196</td>\n",
       "    </tr>\n",
       "    <tr>\n",
       "      <th>3</th>\n",
       "      <td>3</td>\n",
       "      <td>0.442596</td>\n",
       "      <td>0.280909</td>\n",
       "    </tr>\n",
       "  </tbody>\n",
       "</table>\n",
       "</div>"
      ],
      "text/plain": [
       "   y        W1        W2\n",
       "0  0  0.506368  0.584381\n",
       "1  1  0.394371  0.808610\n",
       "2  2  0.765826  0.453196\n",
       "3  3  0.442596  0.280909"
      ]
     },
     "metadata": {},
     "output_type": "display_data"
    }
   ],
   "source": [
    "ncol = 2\n",
    "nZones = 4\n",
    "nrows = nZones\n",
    "\n",
    "cols = [f\"W{i+1}\" for i in range(ncol)]\n",
    "X = pd.DataFrame(np.random.random(size=(nrows, ncol)), columns=cols)\n",
    "y = [i for i in range(nrows)]\n",
    "y = pd.Series(y)\n",
    "y.name = \"y\"\n",
    "zoneCentroid = pd.concat([y, X], axis=1)\n",
    "display(zoneCentroid)"
   ]
  },
  {
   "cell_type": "code",
   "execution_count": 622,
   "metadata": {},
   "outputs": [
    {
     "data": {
      "text/html": [
       "<div>\n",
       "<style scoped>\n",
       "    .dataframe tbody tr th:only-of-type {\n",
       "        vertical-align: middle;\n",
       "    }\n",
       "\n",
       "    .dataframe tbody tr th {\n",
       "        vertical-align: top;\n",
       "    }\n",
       "\n",
       "    .dataframe thead th {\n",
       "        text-align: right;\n",
       "    }\n",
       "</style>\n",
       "<table border=\"1\" class=\"dataframe\">\n",
       "  <thead>\n",
       "    <tr style=\"text-align: right;\">\n",
       "      <th></th>\n",
       "      <th>W1</th>\n",
       "      <th>W2</th>\n",
       "    </tr>\n",
       "  </thead>\n",
       "  <tbody>\n",
       "    <tr>\n",
       "      <th>0</th>\n",
       "      <td>0.803360</td>\n",
       "      <td>0.100095</td>\n",
       "    </tr>\n",
       "    <tr>\n",
       "      <th>1</th>\n",
       "      <td>0.863555</td>\n",
       "      <td>0.509255</td>\n",
       "    </tr>\n",
       "    <tr>\n",
       "      <th>2</th>\n",
       "      <td>0.535763</td>\n",
       "      <td>0.637348</td>\n",
       "    </tr>\n",
       "    <tr>\n",
       "      <th>3</th>\n",
       "      <td>0.410590</td>\n",
       "      <td>0.372820</td>\n",
       "    </tr>\n",
       "    <tr>\n",
       "      <th>4</th>\n",
       "      <td>0.382247</td>\n",
       "      <td>0.432125</td>\n",
       "    </tr>\n",
       "    <tr>\n",
       "      <th>...</th>\n",
       "      <td>...</td>\n",
       "      <td>...</td>\n",
       "    </tr>\n",
       "    <tr>\n",
       "      <th>195</th>\n",
       "      <td>0.381405</td>\n",
       "      <td>0.203446</td>\n",
       "    </tr>\n",
       "    <tr>\n",
       "      <th>196</th>\n",
       "      <td>0.424768</td>\n",
       "      <td>0.354165</td>\n",
       "    </tr>\n",
       "    <tr>\n",
       "      <th>197</th>\n",
       "      <td>0.545025</td>\n",
       "      <td>0.673584</td>\n",
       "    </tr>\n",
       "    <tr>\n",
       "      <th>198</th>\n",
       "      <td>0.180049</td>\n",
       "      <td>0.735418</td>\n",
       "    </tr>\n",
       "    <tr>\n",
       "      <th>199</th>\n",
       "      <td>0.603315</td>\n",
       "      <td>0.172702</td>\n",
       "    </tr>\n",
       "  </tbody>\n",
       "</table>\n",
       "<p>200 rows × 2 columns</p>\n",
       "</div>"
      ],
      "text/plain": [
       "           W1        W2\n",
       "0    0.803360  0.100095\n",
       "1    0.863555  0.509255\n",
       "2    0.535763  0.637348\n",
       "3    0.410590  0.372820\n",
       "4    0.382247  0.432125\n",
       "..        ...       ...\n",
       "195  0.381405  0.203446\n",
       "196  0.424768  0.354165\n",
       "197  0.545025  0.673584\n",
       "198  0.180049  0.735418\n",
       "199  0.603315  0.172702\n",
       "\n",
       "[200 rows x 2 columns]"
      ]
     },
     "metadata": {},
     "output_type": "display_data"
    }
   ],
   "source": [
    "nrows = 200\n",
    "X = pd.DataFrame(np.random.random(size=(nrows, ncol)), columns=cols)\n",
    "ufp = pd.DataFrame(X, columns=cols)\n",
    "display(ufp)"
   ]
  },
  {
   "cell_type": "code",
   "execution_count": 623,
   "metadata": {},
   "outputs": [
    {
     "data": {
      "text/plain": [
       "<Axes: xlabel='W1', ylabel='W2'>"
      ]
     },
     "execution_count": 623,
     "metadata": {},
     "output_type": "execute_result"
    },
    {
     "data": {
      "image/png": "[encoded data removed]",
      "text/plain": [
       "<Figure size 640x480 with 1 Axes>"
      ]
     },
     "metadata": {},
     "output_type": "display_data"
    }
   ],
   "source": [
    "fig, ax = plt.subplots()\n",
    "sns.scatterplot(zoneCentroid, x=\"W1\", y=\"W2\", hue=\"y\", ax=ax, s=200)\n",
    "sns.scatterplot(ufp, x=\"W1\", y=\"W2\", ax=ax, color=\"gray\", s=20)"
   ]
  },
  {
   "cell_type": "code",
   "execution_count": 624,
   "metadata": {},
   "outputs": [
    {
     "data": {
      "text/html": [
       "<div>\n",
       "<style scoped>\n",
       "    .dataframe tbody tr th:only-of-type {\n",
       "        vertical-align: middle;\n",
       "    }\n",
       "\n",
       "    .dataframe tbody tr th {\n",
       "        vertical-align: top;\n",
       "    }\n",
       "\n",
       "    .dataframe thead th {\n",
       "        text-align: right;\n",
       "    }\n",
       "</style>\n",
       "<table border=\"1\" class=\"dataframe\">\n",
       "  <thead>\n",
       "    <tr style=\"text-align: right;\">\n",
       "      <th></th>\n",
       "      <th>W1</th>\n",
       "      <th>W2</th>\n",
       "    </tr>\n",
       "  </thead>\n",
       "  <tbody>\n",
       "    <tr>\n",
       "      <th>0</th>\n",
       "      <td>0.506368</td>\n",
       "      <td>0.584381</td>\n",
       "    </tr>\n",
       "    <tr>\n",
       "      <th>1</th>\n",
       "      <td>0.394371</td>\n",
       "      <td>0.808610</td>\n",
       "    </tr>\n",
       "    <tr>\n",
       "      <th>2</th>\n",
       "      <td>0.765826</td>\n",
       "      <td>0.453196</td>\n",
       "    </tr>\n",
       "    <tr>\n",
       "      <th>3</th>\n",
       "      <td>0.442596</td>\n",
       "      <td>0.280909</td>\n",
       "    </tr>\n",
       "  </tbody>\n",
       "</table>\n",
       "</div>"
      ],
      "text/plain": [
       "         W1        W2\n",
       "0  0.506368  0.584381\n",
       "1  0.394371  0.808610\n",
       "2  0.765826  0.453196\n",
       "3  0.442596  0.280909"
      ]
     },
     "execution_count": 624,
     "metadata": {},
     "output_type": "execute_result"
    }
   ],
   "source": [
    "zoneCentroid[cols]"
   ]
  },
  {
   "cell_type": "code",
   "execution_count": 625,
   "metadata": {},
   "outputs": [
    {
     "name": "stdout",
     "output_type": "stream",
     "text": [
      "array([[0.        , 0.25064307, 0.29073698, 0.31010028,        inf],\n",
      "       [0.        , 0.25064307, 0.51409943, 0.5299    ,        inf],\n",
      "       [0.        , 0.29073698, 0.36627859, 0.51409943,        inf],\n",
      "       [0.        , 0.31010028, 0.36627859, 0.5299    ,        inf]])\n",
      "array([[0, 1, 2, 3, 4],\n",
      "       [1, 0, 2, 3, 4],\n",
      "       [2, 0, 3, 1, 4],\n",
      "       [3, 0, 2, 1, 4]], dtype=int64)\n",
      "'Closest neighbor for point 0 is 1 with distance = 0.2506430737805476'\n",
      "'Closest neighbor for point 1 is 0 with distance = 0.2506430737805476'\n",
      "'Closest neighbor for point 2 is 0 with distance = 0.2907369773853904'\n",
      "'Closest neighbor for point 3 is 0 with distance = 0.31010027510321336'\n"
     ]
    },
    {
     "data": {
      "text/html": [
       "<div>\n",
       "<style scoped>\n",
       "    .dataframe tbody tr th:only-of-type {\n",
       "        vertical-align: middle;\n",
       "    }\n",
       "\n",
       "    .dataframe tbody tr th {\n",
       "        vertical-align: top;\n",
       "    }\n",
       "\n",
       "    .dataframe thead th {\n",
       "        text-align: right;\n",
       "    }\n",
       "</style>\n",
       "<table border=\"1\" class=\"dataframe\">\n",
       "  <thead>\n",
       "    <tr style=\"text-align: right;\">\n",
       "      <th></th>\n",
       "      <th>y</th>\n",
       "      <th>W1</th>\n",
       "      <th>W2</th>\n",
       "      <th>nnIdx</th>\n",
       "      <th>minDist</th>\n",
       "    </tr>\n",
       "  </thead>\n",
       "  <tbody>\n",
       "    <tr>\n",
       "      <th>0</th>\n",
       "      <td>0</td>\n",
       "      <td>0.506368</td>\n",
       "      <td>0.584381</td>\n",
       "      <td>1</td>\n",
       "      <td>0.250643</td>\n",
       "    </tr>\n",
       "    <tr>\n",
       "      <th>1</th>\n",
       "      <td>1</td>\n",
       "      <td>0.394371</td>\n",
       "      <td>0.808610</td>\n",
       "      <td>0</td>\n",
       "      <td>0.250643</td>\n",
       "    </tr>\n",
       "    <tr>\n",
       "      <th>2</th>\n",
       "      <td>2</td>\n",
       "      <td>0.765826</td>\n",
       "      <td>0.453196</td>\n",
       "      <td>0</td>\n",
       "      <td>0.290737</td>\n",
       "    </tr>\n",
       "    <tr>\n",
       "      <th>3</th>\n",
       "      <td>3</td>\n",
       "      <td>0.442596</td>\n",
       "      <td>0.280909</td>\n",
       "      <td>0</td>\n",
       "      <td>0.310100</td>\n",
       "    </tr>\n",
       "  </tbody>\n",
       "</table>\n",
       "</div>"
      ],
      "text/plain": [
       "   y        W1        W2  nnIdx   minDist\n",
       "0  0  0.506368  0.584381      1  0.250643\n",
       "1  1  0.394371  0.808610      0  0.250643\n",
       "2  2  0.765826  0.453196      0  0.290737\n",
       "3  3  0.442596  0.280909      0  0.310100"
      ]
     },
     "metadata": {},
     "output_type": "display_data"
    }
   ],
   "source": [
    "# Figure out the nearest neighbor\n",
    "tree = KDTree(zoneCentroid[cols])\n",
    "\n",
    "distArr, idxArr = tree.query(zoneCentroid[cols], k=5)\n",
    "\n",
    "pp(distArr)\n",
    "pp(idxArr)\n",
    "\n",
    "for row in range(zoneCentroid.shape[0]):\n",
    "    dist = distArr[row][1]\n",
    "    idx = idxArr[row][1]\n",
    "    pp(f\"Closest neighbor for point {zoneCentroid.loc[row,\"y\"]} is {zoneCentroid.loc[idx,\"y\"]} with distance = {dist}\")    \n",
    "    \n",
    "zoneCentroid[\"nnIdx\"] = idxArr[:,1]\n",
    "zoneCentroid[\"minDist\"] = distArr[:,1]\n",
    "display(zoneCentroid)"
   ]
  },
  {
   "cell_type": "code",
   "execution_count": 626,
   "metadata": {},
   "outputs": [
    {
     "data": {
      "text/plain": [
       "0    [2, 128, 43, 34, 77, 133, 110, 55, 134, 197, 122]\n",
       "1      [40, 19, 57, 97, 178, 46, 69, 176, 183, 141, 7]\n",
       "2    [112, 71, 90, 95, 73, 51, 8, 175, 139, 12, 1, ...\n",
       "3    [11, 117, 195, 119, 116, 80, 157, 68, 3, 196, ...\n",
       "dtype: object"
      ]
     },
     "execution_count": 626,
     "metadata": {},
     "output_type": "execute_result"
    }
   ],
   "source": [
    "tree = KDTree(ufp[cols])\n",
    "\n",
    "def rowFn(row):\n",
    "    point = row[cols].values\n",
    "    minDist = row[\"minDist\"]\n",
    "    res = tree.query_ball_point(point, minDist/2)\n",
    "    return res\n",
    "\n",
    "\n",
    "nb = zoneCentroid.apply(rowFn, axis=1)\n",
    "nb"
   ]
  },
  {
   "cell_type": "code",
   "execution_count": 627,
   "metadata": {},
   "outputs": [
    {
     "data": {
      "text/html": [
       "<div>\n",
       "<style scoped>\n",
       "    .dataframe tbody tr th:only-of-type {\n",
       "        vertical-align: middle;\n",
       "    }\n",
       "\n",
       "    .dataframe tbody tr th {\n",
       "        vertical-align: top;\n",
       "    }\n",
       "\n",
       "    .dataframe thead th {\n",
       "        text-align: right;\n",
       "    }\n",
       "</style>\n",
       "<table border=\"1\" class=\"dataframe\">\n",
       "  <thead>\n",
       "    <tr style=\"text-align: right;\">\n",
       "      <th></th>\n",
       "      <th>W1</th>\n",
       "      <th>W2</th>\n",
       "    </tr>\n",
       "  </thead>\n",
       "  <tbody>\n",
       "    <tr>\n",
       "      <th>2</th>\n",
       "      <td>0.535763</td>\n",
       "      <td>0.637348</td>\n",
       "    </tr>\n",
       "    <tr>\n",
       "      <th>128</th>\n",
       "      <td>0.468197</td>\n",
       "      <td>0.514269</td>\n",
       "    </tr>\n",
       "    <tr>\n",
       "      <th>43</th>\n",
       "      <td>0.526800</td>\n",
       "      <td>0.493430</td>\n",
       "    </tr>\n",
       "    <tr>\n",
       "      <th>34</th>\n",
       "      <td>0.435692</td>\n",
       "      <td>0.642473</td>\n",
       "    </tr>\n",
       "    <tr>\n",
       "      <th>77</th>\n",
       "      <td>0.480122</td>\n",
       "      <td>0.703158</td>\n",
       "    </tr>\n",
       "    <tr>\n",
       "      <th>133</th>\n",
       "      <td>0.597301</td>\n",
       "      <td>0.574789</td>\n",
       "    </tr>\n",
       "    <tr>\n",
       "      <th>110</th>\n",
       "      <td>0.535816</td>\n",
       "      <td>0.538557</td>\n",
       "    </tr>\n",
       "    <tr>\n",
       "      <th>55</th>\n",
       "      <td>0.566317</td>\n",
       "      <td>0.611664</td>\n",
       "    </tr>\n",
       "    <tr>\n",
       "      <th>134</th>\n",
       "      <td>0.568919</td>\n",
       "      <td>0.619971</td>\n",
       "    </tr>\n",
       "    <tr>\n",
       "      <th>197</th>\n",
       "      <td>0.545025</td>\n",
       "      <td>0.673584</td>\n",
       "    </tr>\n",
       "    <tr>\n",
       "      <th>122</th>\n",
       "      <td>0.603638</td>\n",
       "      <td>0.588304</td>\n",
       "    </tr>\n",
       "  </tbody>\n",
       "</table>\n",
       "</div>"
      ],
      "text/plain": [
       "           W1        W2\n",
       "2    0.535763  0.637348\n",
       "128  0.468197  0.514269\n",
       "43   0.526800  0.493430\n",
       "34   0.435692  0.642473\n",
       "77   0.480122  0.703158\n",
       "133  0.597301  0.574789\n",
       "110  0.535816  0.538557\n",
       "55   0.566317  0.611664\n",
       "134  0.568919  0.619971\n",
       "197  0.545025  0.673584\n",
       "122  0.603638  0.588304"
      ]
     },
     "execution_count": 627,
     "metadata": {},
     "output_type": "execute_result"
    }
   ],
   "source": [
    "ufp.iloc[nb[0], :]"
   ]
  },
  {
   "cell_type": "code",
   "execution_count": 628,
   "metadata": {},
   "outputs": [
    {
     "data": {
      "image/png": "[encoded data removed]",
      "text/plain": [
       "<Figure size 640x480 with 1 Axes>"
      ]
     },
     "metadata": {},
     "output_type": "display_data"
    }
   ],
   "source": [
    "fig, ax = plt.subplots()\n",
    "sns.scatterplot(zoneCentroid, x=\"W1\", y=\"W2\", hue=\"y\", ax=ax, s=200)\n",
    "sns.scatterplot(ufp, x=\"W1\", y=\"W2\", ax=ax, color=\"gray\", s=20)\n",
    "\n",
    "for i in range(zoneCentroid.shape[0]):\n",
    "    nPoints = ufp.iloc[nb[i], :]\n",
    "    sns.scatterplot(nPoints, x=\"W1\", y=\"W2\", ax=ax, color=\"red\", s=40)"
   ]
  },
  {
   "cell_type": "code",
   "execution_count": null,
   "metadata": {},
   "outputs": [],
   "source": []
  }
 ],
 "metadata": {
  "kernelspec": {
   "display_name": ".venv",
   "language": "python",
   "name": "python3"
  },
  "language_info": {
   "codemirror_mode": {
    "name": "ipython",
    "version": 3
   },
   "file_extension": ".py",
   "mimetype": "text/x-python",
   "name": "python",
   "nbconvert_exporter": "python",
   "pygments_lexer": "ipython3",
   "version": "3.12.7"
  }
 },
 "nbformat": 4,
 "nbformat_minor": 2
}
