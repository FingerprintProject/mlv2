{
 "cells": [
  {
   "cell_type": "code",
   "execution_count": 16,
   "metadata": {},
   "outputs": [],
   "source": [
    "from google.cloud import storage\n",
    "from google.auth import default"
   ]
  },
  {
   "cell_type": "code",
   "execution_count": 17,
   "metadata": {},
   "outputs": [],
   "source": [
    "credentials, _ = default()\n",
    "project_name = \"daywork-215507\"\n",
    "storage_client = storage.Client(project=project_name, credentials=credentials)"
   ]
  },
  {
   "cell_type": "code",
   "execution_count": 18,
   "metadata": {},
   "outputs": [],
   "source": [
    "# https://storage.cloud.google.com/wifi-localization-model-dev/5_1723799063_3406/data_store.pickle\n",
    "bucket_name = \"wifi-localization-model-dev\"\n",
    "bucket = storage_client.bucket(bucket_name)\n",
    "filepath = f\"5_1723799063_3406/data_store.pickle\"\n",
    "blob = bucket.blob(filepath)\n",
    "blob.download_to_filename(\"./test.pickle\")"
   ]
  }
 ],
 "metadata": {
  "kernelspec": {
   "display_name": ".venv",
   "language": "python",
   "name": "python3"
  },
  "language_info": {
   "codemirror_mode": {
    "name": "ipython",
    "version": 3
   },
   "file_extension": ".py",
   "mimetype": "text/x-python",
   "name": "python",
   "nbconvert_exporter": "python",
   "pygments_lexer": "ipython3",
   "version": "3.12.7"
  }
 },
 "nbformat": 4,
 "nbformat_minor": 2
}
