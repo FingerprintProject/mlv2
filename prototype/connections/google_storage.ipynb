{
 "cells": [
  {
   "cell_type": "code",
   "execution_count": null,
   "metadata": {},
   "outputs": [],
   "source": [
    "from google.cloud import storage\n",
    "from google.auth import default\n",
    "import pickle"
   ]
  },
  {
   "cell_type": "code",
   "execution_count": 14,
   "metadata": {},
   "outputs": [],
   "source": [
    "credentials, _ = default()\n",
    "project_name = \"daywork-215507\"\n",
    "storage_client = storage.Client(project=project_name, credentials=credentials)"
   ]
  },
  {
   "cell_type": "code",
   "execution_count": null,
   "metadata": {},
   "outputs": [],
   "source": [
    "# https://storage.cloud.google.com/wifi-localization-model-dev/5_1723799063_3406/data_store.pickle\n",
    "bucket_name = \"wifi-localization-model-dev\"\n",
    "bucket = storage_client.bucket(bucket_name)"
   ]
  },
  {
   "cell_type": "code",
   "execution_count": null,
   "metadata": {},
   "outputs": [],
   "source": [
    "# Download existing files\n",
    "filepath = f\"5_1723799063_3406/data_store.pickle\"\n",
    "blob = bucket.blob(filepath)\n",
    "blob.download_to_filename(\"./test_download.pickle\")"
   ]
  },
  {
   "cell_type": "code",
   "execution_count": null,
   "metadata": {},
   "outputs": [],
   "source": [
    "# Upload the file you just downloaded\n",
    "blob = bucket.blob(f\"test/test_upload.pickle\")\n",
    "blob.upload_from_filename(\"./test_download.pickle\")"
   ]
  },
  {
   "cell_type": "code",
   "execution_count": null,
   "metadata": {},
   "outputs": [
    {
     "name": "stdout",
     "output_type": "stream",
     "text": [
      "{'a': 1, 'b': 2}\n"
     ]
    }
   ],
   "source": [
    "d = {'a': 1, 'b':2}\n",
    "\n",
    "# Write directly\n",
    "blob = bucket.blob(\"test/d.pickle\")\n",
    "with blob.open(mode='wb') as f:\n",
    "   pickle.dump(d, f)\n",
    "\n",
    "\n",
    "# Read directly\n",
    "with blob.open(mode='rb') as f:\n",
    "   d_reloaded = pickle.load(f)\n",
    "\n",
    "print(d_reloaded)"
   ]
  }
 ],
 "metadata": {
  "kernelspec": {
   "display_name": ".venv",
   "language": "python",
   "name": "python3"
  },
  "language_info": {
   "codemirror_mode": {
    "name": "ipython",
    "version": 3
   },
   "file_extension": ".py",
   "mimetype": "text/x-python",
   "name": "python",
   "nbconvert_exporter": "python",
   "pygments_lexer": "ipython3",
   "version": "3.12.7"
  }
 },
 "nbformat": 4,
 "nbformat_minor": 2
}
