{
 "cells": [
  {
   "cell_type": "code",
   "execution_count": 23,
   "metadata": {},
   "outputs": [],
   "source": [
    "import os\n",
    "import pathlib\n",
    "\n",
    "import sqlalchemy as sa\n",
    "from dotenv import dotenv_values, load_dotenv\n",
    "\n",
    "from sqlalchemy.orm import DeclarativeBase, Session"
   ]
  },
  {
   "cell_type": "code",
   "execution_count": 24,
   "metadata": {},
   "outputs": [
    {
     "name": "stdout",
     "output_type": "stream",
     "text": [
      "c:\\Users\\nnnpo\\Coding\\fingerprint\\mlv2\\.env.dev\n"
     ]
    },
    {
     "data": {
      "text/plain": [
       "True"
      ]
     },
     "execution_count": 24,
     "metadata": {},
     "output_type": "execute_result"
    }
   ],
   "source": [
    "curPath = os.getcwd()\n",
    "parPath = pathlib.Path(curPath).parent\n",
    "dotEnvPath = os.path.join(parPath, \".env.dev\")\n",
    "\n",
    "print(dotEnvPath)\n",
    "if not os.path.isfile(dotEnvPath):\n",
    "    raise FileNotFoundError(f\"File not found: {dotEnvPath}\")\n",
    "\n",
    "load_dotenv(dotenv_path=pathlib.Path(dotEnvPath), override=True)"
   ]
  },
  {
   "cell_type": "code",
   "execution_count": 25,
   "metadata": {},
   "outputs": [
    {
     "name": "stdout",
     "output_type": "stream",
     "text": [
      "postgres 1234 daywork-dev-db2 localhost 5432\n"
     ]
    }
   ],
   "source": [
    "db_username = os.getenv(\"PSQL_USERNAME\")\n",
    "db_password = os.getenv(\"PSQL_PASSWORD\")\n",
    "db_database = os.getenv(\"PSQL_DATABASE\")\n",
    "db_host = os.getenv(\"PSQL_HOST\")\n",
    "db_port = os.getenv(\"PSQL_PORT\")\n",
    "\n",
    "print(db_username, db_password, db_database, db_host, db_port)"
   ]
  },
  {
   "cell_type": "code",
   "execution_count": 26,
   "metadata": {},
   "outputs": [],
   "source": [
    "urlString = (\n",
    "    f\"postgresql+pg8000://{db_username}:{db_password}@{db_host}:{db_port}/{db_database}\"\n",
    ")\n",
    "engine = sa.create_engine(urlString)"
   ]
  },
  {
   "cell_type": "code",
   "execution_count": 27,
   "metadata": {},
   "outputs": [
    {
     "name": "stdout",
     "output_type": "stream",
     "text": [
      "[('wifi-localization-model-dev/15_1726209326_7290', 15, 9), ('wifi-localization-model-dev/41_1726210247_8583', 41, 11)]\n"
     ]
    }
   ],
   "source": [
    "select_query = \"\"\"\n",
    "    SELECT DISTINCT ON (hospital_id) path, hospital_id, id\n",
    "FROM fp_models \n",
    "WHERE is_active = true\n",
    "    \"\"\"\n",
    "\n",
    "with engine.connect() as db_conn:\n",
    "    # 1. Find all records with the same hospital_id and is_active = true\n",
    "\n",
    "    active_rows = db_conn.execute(sa.text(select_query)).fetchall()\n",
    "\n",
    "print(active_rows)"
   ]
  },
  {
   "cell_type": "code",
   "execution_count": 28,
   "metadata": {},
   "outputs": [],
   "source": [
    "class Base(DeclarativeBase):\n",
    "    pass\n",
    "\n",
    "class FpModel(Base):\n",
    "    __tablename__ = \"fp_models\"\n",
    "    id = sa.Column(sa.Integer, primary_key=True)\n",
    "    name = sa.Column(sa.String)\n",
    "    path = sa.Column(sa.String)"
   ]
  },
  {
   "cell_type": "code",
   "execution_count": 29,
   "metadata": {},
   "outputs": [],
   "source": [
    "session = Session(engine)"
   ]
  },
  {
   "cell_type": "code",
   "execution_count": 30,
   "metadata": {},
   "outputs": [
    {
     "name": "stdout",
     "output_type": "stream",
     "text": [
      "1 CRH PROD2024-09-06 16:00 wifi-localization-model-dev/15_1725613150_4159\n",
      "2 CRH PROD2024-09-06 16:10 wifi-localization-model-dev/15_1725613765_2100\n",
      "3 test2024-09-10 11:57 test\n",
      "4 CRH PROD2024-09-06 16:01 wifi-localization-model-dev/15_1725613233_8958\n",
      "5 CRH PROD2024-09-10 11:33 wifi-localization-model-dev/15_1725942752_6643\n",
      "6 CRH PROD2024-09-10 15:12 wifi-localization-model-dev/15_1725955882_6201\n",
      "7 CRH PROD2024-09-10 15:24 wifi-localization-model-dev/15_1725956581_4834\n",
      "8 CRH PROD2024-09-10 08:41 wifi-localization-model-dev/15_1725957525_2166\n",
      "9 CRH PROD2024-09-13 06:37 wifi-localization-model-dev/15_1726209326_7290\n",
      "10 step_exp_2024_08_132024-09-12 18:10 wifi-localization-model-dev/41_1726139418_9234\n",
      "11 step_exp_2024_08_132024-09-13 06:50 wifi-localization-model-dev/41_1726210247_8583\n",
      "12 asdasdsad wifi-localization-model-dev/15_1725951320_1452\n"
     ]
    }
   ],
   "source": [
    "stmt = sa.select(FpModel)\n",
    "for fp in session.scalars(stmt):\n",
    "    print(fp.id, fp.name, fp.path)"
   ]
  }
 ],
 "metadata": {
  "kernelspec": {
   "display_name": ".venv",
   "language": "python",
   "name": "python3"
  },
  "language_info": {
   "codemirror_mode": {
    "name": "ipython",
    "version": 3
   },
   "file_extension": ".py",
   "mimetype": "text/x-python",
   "name": "python",
   "nbconvert_exporter": "python",
   "pygments_lexer": "ipython3",
   "version": "3.12.7"
  }
 },
 "nbformat": 4,
 "nbformat_minor": 2
}
