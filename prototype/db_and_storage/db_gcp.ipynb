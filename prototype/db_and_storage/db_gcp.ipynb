{
 "cells": [
  {
   "cell_type": "code",
   "execution_count": null,
   "metadata": {},
   "outputs": [],
   "source": [
    "import os\n",
    "import pathlib\n",
    "from io import StringIO\n",
    "\n",
    "import sqlalchemy as sa\n",
    "from dotenv import dotenv_values, load_dotenv\n",
    "from google.cloud import secretmanager\n",
    "from google.cloud.sql.connector import Connector\n",
    "from sqlalchemy.orm import DeclarativeBase, Session"
   ]
  },
  {
   "cell_type": "code",
   "execution_count": null,
   "metadata": {},
   "outputs": [],
   "source": [
    "client = secretmanager.SecretManagerServiceClient()\n",
    "project_id = \"811358834395\"\n",
    "secret_id = \"python-wifi-api\"\n",
    "version_id = \"1\"\n",
    "resource_name = f\"projects/{project_id}/secrets/{secret_id}/versions/{version_id}\"\n",
    "response = client.access_secret_version(request={\"name\": resource_name})\n",
    "payload = response.payload.data.decode(\"UTF-8\")\n",
    "print(payload)"
   ]
  },
  {
   "cell_type": "code",
   "execution_count": null,
   "metadata": {},
   "outputs": [],
   "source": [
    "config = load_dotenv(stream=StringIO(payload), override=True)\n",
    "print(config)\n",
    "env = dotenv_values(stream=StringIO(payload))\n",
    "for k, v in env.items():\n",
    "    print(k, \"=\", v)"
   ]
  },
  {
   "cell_type": "code",
   "execution_count": null,
   "metadata": {},
   "outputs": [],
   "source": [
    "db_instance = os.getenv(\"PSQL_INSTANCE\")\n",
    "db_username = os.getenv(\"PSQL_USERNAME\")\n",
    "db_password = os.getenv(\"PSQL_PASSWORD\")\n",
    "db_database = os.getenv(\"PSQL_DATABASE\")\n",
    "\n",
    "print(db_instance, db_username, db_password, db_database)"
   ]
  },
  {
   "cell_type": "code",
   "execution_count": null,
   "metadata": {},
   "outputs": [],
   "source": [
    "connector = Connector()\n",
    "\n",
    "\n",
    "def getConn(connector=connector):\n",
    "    return connector.connect(\n",
    "        db_instance,\n",
    "        \"pg8000\",\n",
    "        user=db_username,\n",
    "        password=db_password,\n",
    "        db=db_database,\n",
    "        # ip_type = \"private\",\n",
    "    )"
   ]
  },
  {
   "cell_type": "code",
   "execution_count": null,
   "metadata": {},
   "outputs": [],
   "source": [
    "engine = sa.create_engine(\n",
    "    \"postgresql+pg8000://\",\n",
    "    creator=getConn,\n",
    ")\n",
    "\n",
    "select_query = \"\"\"\n",
    "    SELECT DISTINCT ON (hospital_id) path, hospital_id, id\n",
    "FROM fp_models \n",
    "WHERE is_active = true\n",
    "    \"\"\"\n",
    "\n",
    "with engine.connect() as db_conn:\n",
    "    # 1. Find all records with the same hospital_id and is_active = true\n",
    "\n",
    "    active_rows = db_conn.execute(sa.text(select_query)).fetchall()\n",
    "\n",
    "print(active_rows)"
   ]
  },
  {
   "cell_type": "code",
   "execution_count": null,
   "metadata": {},
   "outputs": [],
   "source": [
    "class Base(DeclarativeBase):\n",
    "    pass\n",
    "\n",
    "class FpModel(Base):\n",
    "    __tablename__ = \"fp_models\"\n",
    "    id = sa.Column(sa.Integer, primary_key=True)\n",
    "    name = sa.Column(sa.String)\n",
    "    path = sa.Column(sa.String)"
   ]
  },
  {
   "cell_type": "code",
   "execution_count": null,
   "metadata": {},
   "outputs": [],
   "source": [
    "session = Session(engine)"
   ]
  },
  {
   "cell_type": "code",
   "execution_count": null,
   "metadata": {},
   "outputs": [],
   "source": [
    "stmt = sa.select(FpModel)\n",
    "for fp in session.scalars(stmt):\n",
    "    print(fp.id, fp.name, fp.path)"
   ]
  }
 ],
 "metadata": {
  "kernelspec": {
   "display_name": ".venv",
   "language": "python",
   "name": "python3"
  },
  "language_info": {
   "codemirror_mode": {
    "name": "ipython",
    "version": 3
   },
   "file_extension": ".py",
   "mimetype": "text/x-python",
   "name": "python",
   "nbconvert_exporter": "python",
   "pygments_lexer": "ipython3",
   "version": "3.12.7"
  }
 },
 "nbformat": 4,
 "nbformat_minor": 2
}
