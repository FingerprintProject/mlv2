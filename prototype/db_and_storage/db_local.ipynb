{
 "cells": [
  {
   "cell_type": "code",
   "execution_count": null,
   "metadata": {},
   "outputs": [],
   "source": [
    "import os\n",
    "import pathlib\n",
    "\n",
    "import sqlalchemy as sa\n",
    "from dotenv import dotenv_values, load_dotenv\n",
    "\n",
    "from sqlalchemy.orm import DeclarativeBase, Session"
   ]
  },
  {
   "cell_type": "code",
   "execution_count": null,
   "metadata": {},
   "outputs": [],
   "source": [
    "curPath = os.getcwd()\n",
    "parPath = pathlib.Path(curPath).parent\n",
    "dotEnvPath = os.path.join(parPath, \".env.dev\")\n",
    "\n",
    "print(dotEnvPath)\n",
    "if not os.path.isfile(dotEnvPath):\n",
    "    raise FileNotFoundError(f\"File not found: {dotEnvPath}\")\n",
    "\n",
    "load_dotenv(dotenv_path=pathlib.Path(dotEnvPath), override=True)"
   ]
  },
  {
   "cell_type": "code",
   "execution_count": null,
   "metadata": {},
   "outputs": [],
   "source": [
    "db_username = os.getenv(\"PSQL_USERNAME\")\n",
    "db_password = os.getenv(\"PSQL_PASSWORD\")\n",
    "db_database = os.getenv(\"PSQL_DATABASE\")\n",
    "db_host = os.getenv(\"PSQL_HOST\")\n",
    "db_port = os.getenv(\"PSQL_PORT\")\n",
    "\n",
    "print(db_username, db_password, db_database, db_host, db_port)"
   ]
  },
  {
   "cell_type": "code",
   "execution_count": null,
   "metadata": {},
   "outputs": [],
   "source": [
    "urlString = (\n",
    "    f\"postgresql+pg8000://{db_username}:{db_password}@{db_host}:{db_port}/{db_database}\"\n",
    ")\n",
    "engine = sa.create_engine(urlString)"
   ]
  },
  {
   "cell_type": "code",
   "execution_count": null,
   "metadata": {},
   "outputs": [],
   "source": [
    "select_query = \"\"\"\n",
    "    SELECT DISTINCT ON (hospital_id) path, hospital_id, id\n",
    "FROM fp_models \n",
    "WHERE is_active = true\n",
    "    \"\"\"\n",
    "\n",
    "with engine.connect() as db_conn:\n",
    "    # 1. Find all records with the same hospital_id and is_active = true\n",
    "\n",
    "    active_rows = db_conn.execute(sa.text(select_query)).fetchall()\n",
    "\n",
    "print(active_rows)"
   ]
  },
  {
   "cell_type": "code",
   "execution_count": null,
   "metadata": {},
   "outputs": [],
   "source": [
    "class Base(DeclarativeBase):\n",
    "    pass\n",
    "\n",
    "class FpModel(Base):\n",
    "    __tablename__ = \"fp_models\"\n",
    "    id = sa.Column(sa.Integer, primary_key=True)\n",
    "    name = sa.Column(sa.String)\n",
    "    path = sa.Column(sa.String)"
   ]
  },
  {
   "cell_type": "code",
   "execution_count": null,
   "metadata": {},
   "outputs": [],
   "source": [
    "session = Session(engine)"
   ]
  },
  {
   "cell_type": "code",
   "execution_count": null,
   "metadata": {},
   "outputs": [],
   "source": [
    "stmt = sa.select(FpModel)\n",
    "for fp in session.scalars(stmt):\n",
    "    print(fp.id, fp.name, fp.path)"
   ]
  }
 ],
 "metadata": {
  "kernelspec": {
   "display_name": ".venv",
   "language": "python",
   "name": "python3"
  },
  "language_info": {
   "codemirror_mode": {
    "name": "ipython",
    "version": 3
   },
   "file_extension": ".py",
   "mimetype": "text/x-python",
   "name": "python",
   "nbconvert_exporter": "python",
   "pygments_lexer": "ipython3",
   "version": "3.12.7"
  }
 },
 "nbformat": 4,
 "nbformat_minor": 2
}
