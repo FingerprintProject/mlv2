{
 "cells": [
  {
   "cell_type": "code",
   "execution_count": null,
   "metadata": {},
   "outputs": [],
   "source": [
    "import pandas as pd\n",
    "from google.cloud import bigquery\n",
    "from google.auth import default"
   ]
  },
  {
   "cell_type": "code",
   "execution_count": null,
   "metadata": {},
   "outputs": [],
   "source": [
    "credentials, _ = default()\n",
    "projectName = \"daywork-215507\"\n",
    "hospitalId = 41\n",
    "client = bigquery.Client(project=projectName, credentials=credentials)"
   ]
  },
  {
   "cell_type": "code",
   "execution_count": null,
   "metadata": {},
   "outputs": [],
   "source": [
    "query = f\"\"\"\n",
    "SELECT * FROM `{projectName}.hospital_prediction.fingerprints` LIMIT 10\n",
    "\"\"\""
   ]
  },
  {
   "cell_type": "code",
   "execution_count": null,
   "metadata": {},
   "outputs": [],
   "source": [
    "query = f\"\"\"\n",
    "    SELECT\n",
    "        fp.id,\n",
    "        fp.hospital_name,\n",
    "        fp.hospital_zone_name,\n",
    "        ARRAY_AGG(STRUCT(\n",
    "            r.ssid,\n",
    "            r.bssid,\n",
    "            r.level,\n",
    "            r.frequency\n",
    "        )) AS radiation_records\n",
    "    FROM\n",
    "        `{projectName}.hospital_prediction.fingerprints` AS fp\n",
    "    LEFT JOIN\n",
    "        `{projectName}.hospital_prediction.wifi_radiations` AS r\n",
    "    ON\n",
    "        fp.id = r.fingerprint_id\n",
    "    WHERE fp.is_active = true and fp.hospital_id = {hospitalId}\n",
    "    GROUP BY\n",
    "        fp.id, fp.hospital_zone_name, fp.hospital_name\n",
    "\"\"\""
   ]
  },
  {
   "cell_type": "code",
   "execution_count": null,
   "metadata": {},
   "outputs": [],
   "source": [
    "query_job = client.query(query)\n",
    "results = query_job.result()\n",
    "# reses = [dict(res.items()) for res in results]"
   ]
  },
  {
   "cell_type": "code",
   "execution_count": null,
   "metadata": {},
   "outputs": [],
   "source": [
    "# reses[0]"
   ]
  },
  {
   "cell_type": "code",
   "execution_count": null,
   "metadata": {},
   "outputs": [],
   "source": [
    "fingerprints_with_radiation_admin = []\n",
    "fingerprints_with_radiation_data = []\n",
    "hospital_name = None\n",
    "\n",
    "for row in results:\n",
    "    if hospital_name is None:\n",
    "        hospital_name = row.hospital_name\n",
    "\n",
    "    if \"crowd\" not in row.hospital_zone_name.lower():\n",
    "        fingerprints_with_radiation_admin.append(\n",
    "            {\n",
    "                \"id\": row.id,\n",
    "                \"point\": row.hospital_zone_name,\n",
    "                \"dataDictAll\": [\n",
    "                    {\n",
    "                        \"ssid\": rad[\"ssid\"],\n",
    "                        \"bssid\": rad[\"bssid\"],\n",
    "                        \"level\": rad[\"level\"],\n",
    "                        \"frequency\": rad[\"frequency\"],\n",
    "                    }\n",
    "                    for rad in row.radiation_records\n",
    "                ],\n",
    "            }\n",
    "        )\n",
    "    else:\n",
    "        fingerprints_with_radiation_data.append(\n",
    "            {\n",
    "                \"id\": row.id,\n",
    "                \"point\": row.hospital_zone_name,\n",
    "                \"dataDictAll\": [\n",
    "                    {\n",
    "                        \"ssid\": rad[\"ssid\"],\n",
    "                        \"bssid\": rad[\"bssid\"],\n",
    "                        \"level\": rad[\"level\"],\n",
    "                        \"frequency\": rad[\"frequency\"],\n",
    "                    }\n",
    "                    for rad in row.radiation_records\n",
    "                ],\n",
    "            }\n",
    "        )"
   ]
  },
  {
   "cell_type": "code",
   "execution_count": null,
   "metadata": {},
   "outputs": [],
   "source": [
    "admin_json = fingerprints_with_radiation_admin"
   ]
  },
  {
   "cell_type": "code",
   "execution_count": null,
   "metadata": {},
   "outputs": [],
   "source": [
    "df = pd.DataFrame.from_dict(admin_json)"
   ]
  },
  {
   "cell_type": "code",
   "execution_count": null,
   "metadata": {},
   "outputs": [],
   "source": [
    "df[\"point\"].value_counts()"
   ]
  },
  {
   "cell_type": "code",
   "execution_count": null,
   "metadata": {},
   "outputs": [],
   "source": [
    "if hospitalId == 15:\n",
    "    dfSup = df\n",
    "    dfUnsup = pd.DataFrame(columns=df.columns) # Empty\n",
    "elif hospitalId == 41:\n",
    "    filtUnsup = df[\"point\"] == \"\"\n",
    "    dfSup = df[~filtUnsup]\n",
    "    dfUnsup = df[filtUnsup]"
   ]
  },
  {
   "cell_type": "code",
   "execution_count": null,
   "metadata": {},
   "outputs": [],
   "source": [
    "dfSup.to_json(f\"./HID_{hospitalId}_sup.json\", orient=\"records\")\n",
    "dfUnsup.to_json(f\"./HID_{hospitalId}_unsup.json\", orient=\"records\")"
   ]
  }
 ],
 "metadata": {
  "kernelspec": {
   "display_name": ".venv",
   "language": "python",
   "name": "python3"
  },
  "language_info": {
   "codemirror_mode": {
    "name": "ipython",
    "version": 3
   },
   "file_extension": ".py",
   "mimetype": "text/x-python",
   "name": "python",
   "nbconvert_exporter": "python",
   "pygments_lexer": "ipython3",
   "version": "3.12.7"
  }
 },
 "nbformat": 4,
 "nbformat_minor": 2
}
