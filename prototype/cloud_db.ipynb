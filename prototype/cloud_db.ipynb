{
 "cells": [
  {
   "cell_type": "code",
   "execution_count": 8,
   "metadata": {},
   "outputs": [],
   "source": [
    "from dotenv import load_dotenv, dotenv_values\n",
    "from google.cloud.sql.connector import Connector\n",
    "from google.cloud import secretmanager\n",
    "import os, pathlib\n",
    "from io import StringIO\n",
    "import sqlalchemy as sqla"
   ]
  },
  {
   "cell_type": "code",
   "execution_count": 9,
   "metadata": {},
   "outputs": [
    {
     "name": "stdout",
     "output_type": "stream",
     "text": [
      "PSQL_PUBLIC_ADDRESS=35.198.205.205\n",
      "PSQL_PRIVATE_ADDRESS=10.0.0.5\n",
      "PSQL_INSTANCE=daywork-215507:asia-southeast1:daywork-dev-psql\n",
      "PSQL_PORT=5432\n",
      "PSQL_USERNAME=postgres\n",
      "PSQL_PASSWORD=sau2Pk3mtopr\n",
      "PSQL_DATABASE=daywork-dev-db2\n",
      "key=RJNQNwKlUq0MI9hB7kIr9asq\n"
     ]
    }
   ],
   "source": [
    "client = secretmanager.SecretManagerServiceClient()\n",
    "project_id = \"811358834395\"\n",
    "secret_id = \"python-wifi-api\"\n",
    "version_id = \"1\"\n",
    "resource_name = f\"projects/{project_id}/secrets/{secret_id}/versions/{version_id}\"\n",
    "response = client.access_secret_version(request={\"name\": resource_name})\n",
    "payload = response.payload.data.decode(\"UTF-8\")\n",
    "print(payload)"
   ]
  },
  {
   "cell_type": "code",
   "execution_count": 10,
   "metadata": {},
   "outputs": [
    {
     "name": "stdout",
     "output_type": "stream",
     "text": [
      "True\n",
      "PSQL_PUBLIC_ADDRESS = 35.198.205.205\n",
      "PSQL_PRIVATE_ADDRESS = 10.0.0.5\n",
      "PSQL_INSTANCE = daywork-215507:asia-southeast1:daywork-dev-psql\n",
      "PSQL_PORT = 5432\n",
      "PSQL_USERNAME = postgres\n",
      "PSQL_PASSWORD = sau2Pk3mtopr\n",
      "PSQL_DATABASE = daywork-dev-db2\n",
      "key = RJNQNwKlUq0MI9hB7kIr9asq\n"
     ]
    }
   ],
   "source": [
    "config = load_dotenv(stream=StringIO(payload), override=True)\n",
    "print(config)\n",
    "env = dotenv_values(stream=StringIO(payload))\n",
    "for k, v in env.items():\n",
    "    print(k, \"=\", v)"
   ]
  },
  {
   "cell_type": "code",
   "execution_count": 11,
   "metadata": {},
   "outputs": [
    {
     "name": "stdout",
     "output_type": "stream",
     "text": [
      "daywork-215507:asia-southeast1:daywork-dev-psql postgres sau2Pk3mtopr daywork-dev-db2\n"
     ]
    }
   ],
   "source": [
    "# curPath = os.getcwd()\n",
    "# parPath = pathlib.Path(curPath).parent\n",
    "# dotEnvPath = os.path.join(parPath, \".env\")\n",
    "\n",
    "# print(dotEnvPath)\n",
    "# if not os.path.isfile(dotEnvPath):\n",
    "#     raise FileNotFoundError(f\"File not found: {dotEnvPath}\")\n",
    "\n",
    "# load_dotenv(dotenv_path=pathlib.Path(dotEnvPath), override=True)\n",
    "\n",
    "db_instance = os.getenv(\"PSQL_INSTANCE\")\n",
    "db_username = os.getenv(\"PSQL_USERNAME\")\n",
    "db_password = os.getenv(\"PSQL_PASSWORD\")\n",
    "db_database = os.getenv(\"PSQL_DATABASE\")\n",
    "\n",
    "print(db_instance, db_username, db_password, db_database)"
   ]
  },
  {
   "cell_type": "code",
   "execution_count": 12,
   "metadata": {},
   "outputs": [],
   "source": [
    "connector = Connector()\n",
    "\n",
    "\n",
    "def getConn(connector=connector):\n",
    "    return connector.connect(\n",
    "        db_instance,\n",
    "        \"pg8000\",\n",
    "        user=db_username,\n",
    "        password=db_password,\n",
    "        db=db_database,\n",
    "        # ip_type = \"private\",\n",
    "    )"
   ]
  },
  {
   "cell_type": "code",
   "execution_count": 13,
   "metadata": {},
   "outputs": [
    {
     "name": "stdout",
     "output_type": "stream",
     "text": [
      "[('wifi-localization-model-dev/15_1726209326_7290', 15, 11), ('wifi-localization-model-dev/41_1726210247_8583', 41, 12)]\n"
     ]
    }
   ],
   "source": [
    "pool = sqla.create_engine(\n",
    "    \"postgresql+pg8000://\",\n",
    "    creator=getConn,\n",
    ")\n",
    "\n",
    "select_query = \"\"\"\n",
    "    SELECT DISTINCT ON (hospital_id) path, hospital_id, id\n",
    "FROM fp_models \n",
    "WHERE is_active = true\n",
    "    \"\"\"\n",
    "\n",
    "with pool.connect() as db_conn:\n",
    "    # 1. Find all records with the same hospital_id and is_active = true\n",
    "\n",
    "    active_rows = db_conn.execute(sqla.text(select_query)).fetchall()\n",
    "\n",
    "print(active_rows)"
   ]
  },
  {
   "cell_type": "code",
   "execution_count": null,
   "metadata": {},
   "outputs": [],
   "source": []
  }
 ],
 "metadata": {
  "kernelspec": {
   "display_name": ".venv",
   "language": "python",
   "name": "python3"
  },
  "language_info": {
   "codemirror_mode": {
    "name": "ipython",
    "version": 3
   },
   "file_extension": ".py",
   "mimetype": "text/x-python",
   "name": "python",
   "nbconvert_exporter": "python",
   "pygments_lexer": "ipython3",
   "version": "3.12.7"
  }
 },
 "nbformat": 4,
 "nbformat_minor": 2
}
