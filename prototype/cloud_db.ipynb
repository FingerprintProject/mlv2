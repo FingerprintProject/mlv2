{
 "cells": [
  {
   "cell_type": "code",
   "execution_count": 3,
   "metadata": {},
   "outputs": [],
   "source": [
    "from dotenv import load_dotenv\n",
    "from google.cloud.sql.connector import Connector\n",
    "import os, pathlib"
   ]
  },
  {
   "cell_type": "code",
   "execution_count": 4,
   "metadata": {},
   "outputs": [
    {
     "name": "stdout",
     "output_type": "stream",
     "text": [
      "c:\\Users\\nr\\Coding\\fp\\mlv2\\.env\n",
      "daywork-dev-db\n"
     ]
    }
   ],
   "source": [
    "curPath = os.getcwd()\n",
    "parPath = pathlib.Path(curPath).parent\n",
    "dotEnvPath = os.path.join(parPath, \".env\")\n",
    "\n",
    "print(dotEnvPath)\n",
    "if not os.path.isfile(dotEnvPath):\n",
    "    raise FileNotFoundError(f\"File not found: {dotEnvPath}\")\n",
    "\n",
    "load_dotenv(dotenv_path=pathlib.Path(dotEnvPath), override=True)\n",
    "\n",
    "db_instance = os.getenv(\"PSQL_INSTANCE\")\n",
    "db_username = os.getenv(\"PSQL_USERNAME\")\n",
    "db_password = os.getenv(\"PSQL_PASSWORD\")\n",
    "db_database = os.getenv(\"PSQL_DATABASE\")\n",
    "\n",
    "print(db_database)"
   ]
  },
  {
   "cell_type": "code",
   "execution_count": 5,
   "metadata": {},
   "outputs": [],
   "source": [
    "connector = Connector()"
   ]
  }
 ],
 "metadata": {
  "kernelspec": {
   "display_name": ".venv",
   "language": "python",
   "name": "python3"
  },
  "language_info": {
   "codemirror_mode": {
    "name": "ipython",
    "version": 3
   },
   "file_extension": ".py",
   "mimetype": "text/x-python",
   "name": "python",
   "nbconvert_exporter": "python",
   "pygments_lexer": "ipython3",
   "version": "3.12.7"
  }
 },
 "nbformat": 4,
 "nbformat_minor": 2
}
